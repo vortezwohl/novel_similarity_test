{
 "cells": [
  {
   "cell_type": "code",
   "execution_count": null,
   "id": "initial_id",
   "metadata": {
    "collapsed": true,
    "is_executing": true,
    "ExecuteTime": {
     "start_time": "2025-04-12T03:09:59.622456Z"
    }
   },
   "outputs": [],
   "source": [
    "from src import get_files\n",
    "\n",
    "positives = []\n",
    "negatives = []\n",
    "\n",
    "for filename in get_files('./data/positive'):\n",
    "    print('Pos:', filename)\n",
    "    positives.append(filename)\n",
    "\n",
    "for filename in get_files('./data/negative'):\n",
    "    print('Neg:', filename)\n",
    "    positives.append(filename)\n",
    "\n",
    "len(positives)\n",
    "len(negatives)"
   ]
  }
 ],
 "metadata": {
  "kernelspec": {
   "display_name": "Python 3",
   "language": "python",
   "name": "python3"
  },
  "language_info": {
   "codemirror_mode": {
    "name": "ipython",
    "version": 2
   },
   "file_extension": ".py",
   "mimetype": "text/x-python",
   "name": "python",
   "nbconvert_exporter": "python",
   "pygments_lexer": "ipython2",
   "version": "2.7.6"
  }
 },
 "nbformat": 4,
 "nbformat_minor": 5
}
